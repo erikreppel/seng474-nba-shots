{
 "cells": [
  {
   "cell_type": "code",
   "execution_count": 1,
   "metadata": {
    "collapsed": false
   },
   "outputs": [],
   "source": [
    "import pandas as pd\n",
    "import numpy as np\n",
    "from sklearn.model_selection import cross_val_score\n",
    "import matplotlib.pyplot as plt\n",
    "import utils\n",
    "%matplotlib inline"
   ]
  },
  {
   "cell_type": "code",
   "execution_count": 2,
   "metadata": {
    "collapsed": true
   },
   "outputs": [],
   "source": [
    "df = pd.read_csv('shots_with_player_data.csv')"
   ]
  },
  {
   "cell_type": "code",
   "execution_count": 13,
   "metadata": {
    "collapsed": false
   },
   "outputs": [
    {
     "name": "stdout",
     "output_type": "stream",
     "text": [
      "Index([u'Unnamed: 0', u'GAME_ID', u'MATCHUP', u'LOCATION', u'W',\n",
      "       u'FINAL_MARGIN', u'SHOT_NUMBER', u'PERIOD', u'GAME_CLOCK',\n",
      "       u'SHOT_CLOCK', u'DRIBBLES', u'TOUCH_TIME', u'SHOT_DIST', u'PTS_TYPE',\n",
      "       u'SHOT_RESULT', u'CLOSEST_DEFENDER', u'CLOSEST_DEFENDER_PLAYER_ID',\n",
      "       u'CLOSE_DEF_DIST', u'FGM', u'PTS', u'player_name', u'player_id',\n",
      "       u'FG3A', u'FG_PCT', u'FG3M', u'FG3_PCT', u'FGA'],\n",
      "      dtype='object')\n"
     ]
    }
   ],
   "source": [
    "print df.columns\n",
    "# df"
   ]
  },
  {
   "cell_type": "code",
   "execution_count": 3,
   "metadata": {
    "collapsed": true
   },
   "outputs": [],
   "source": [
    "# Choose the features\n",
    "features = [\n",
    "    \"SHOT_NUMBER\",\n",
    "    \"PERIOD\",\n",
    "    \"SHOT_CLOCK\",\n",
    "    \"DRIBBLES\",\n",
    "    \"TOUCH_TIME\",\n",
    "    \"SHOT_DIST\",\n",
    "    \"PTS_TYPE\",\n",
    "    \"CLOSE_DEF_DIST\",\n",
    "    \"FG3A\",\n",
    "    \"FG3M\",\n",
    "    \"FG3_PCT\",\n",
    "    \"FGA\",  # FG attempted per game\n",
    "    \"FGM\",  # FG made per game\n",
    "    \"FG_PCT\"\n",
    "]\n",
    "\n",
    "\n",
    "target = ['PTS']"
   ]
  },
  {
   "cell_type": "code",
   "execution_count": 4,
   "metadata": {
    "collapsed": false
   },
   "outputs": [],
   "source": [
    "# Run normalization functions\n",
    "df['SHOT_CLOCK'] = utils.normalize_shotclock(df['SHOT_CLOCK'])\n",
    "df['LOCATION'] = utils.normalize_location(df['LOCATION'])\n",
    "df['PTS'] = np.float64(df['PTS'])\n",
    "features.remove(\"PTS_TYPE\")\n",
    "df = utils.rescale_features(features, df, [])\n",
    "features.append(\"PTS_TYPE\")"
   ]
  },
  {
   "cell_type": "code",
   "execution_count": 5,
   "metadata": {
    "collapsed": false
   },
   "outputs": [],
   "source": [
    "from sklearn.neural_network import MLPClassifier"
   ]
  },
  {
   "cell_type": "code",
   "execution_count": 29,
   "metadata": {
    "collapsed": false
   },
   "outputs": [
    {
     "name": "stdout",
     "output_type": "stream",
     "text": [
      "Score 0.6179 (+/- 0.0042)\n"
     ]
    }
   ],
   "source": [
    "clf = MLPClassifier(hidden_layer_sizes=(len(features), len(features), 5), activation='tanh')\n",
    "print \"Score %.4f (+/- %.4f)\" % utils.get_cross_validated_score(df[features], df[target], clf)\n",
    "# Result: Advanced features ~ Score 0.6179 (+/- 0.0042) is better than our last best of 0.6141 +/- 0.0061"
   ]
  },
  {
   "cell_type": "code",
   "execution_count": 23,
   "metadata": {
    "collapsed": true
   },
   "outputs": [],
   "source": [
    "# 3pt/2pt classifier split\n",
    "df_3pts = df[df['PTS_TYPE'] == 3.0]\n",
    "df_2pts = df[df['PTS_TYPE'] == 2.0]"
   ]
  },
  {
   "cell_type": "code",
   "execution_count": 37,
   "metadata": {
    "collapsed": false
   },
   "outputs": [
    {
     "name": "stdout",
     "output_type": "stream",
     "text": [
      "Score 0.6487 (+/- 0.0006)\n"
     ]
    }
   ],
   "source": [
    "clf = MLPClassifier(hidden_layer_sizes=(len(features), len(features), 5, 5, 5), activation='tanh')\n",
    "print \"Score %.4f (+/- %.4f)\" % utils.get_cross_validated_score(df_3pts[features], df_3pts[target], clf)\n",
    "# Result: 3pts w/ advanced features: Score 0.6486 (+/- 0.0002)) vs Score 0.6485 (+/- 0.0003) without advanced"
   ]
  },
  {
   "cell_type": "code",
   "execution_count": 39,
   "metadata": {
    "collapsed": false
   },
   "outputs": [
    {
     "name": "stdout",
     "output_type": "stream",
     "text": [
      "Score 0.6076 (+/- 0.0055)\n"
     ]
    }
   ],
   "source": [
    "clf = MLPClassifier(hidden_layer_sizes=(len(features), len(features), 5, 5, 5), activation='tanh')\n",
    "print \"Score %.4f (+/- %.4f)\" % utils.get_cross_validated_score(df_2pts[features], df_2pts[target], clf)\n",
    "# Result: 2pts w/ advanced features: Score 0.6076 (+/- 0.0055) vs Score 0.6072 (+/- 0.0057)"
   ]
  },
  {
   "cell_type": "code",
   "execution_count": 7,
   "metadata": {
    "collapsed": false
   },
   "outputs": [],
   "source": [
    "# One hot players\n",
    "players = {player: [] for player in df['player_name']}\n",
    "for player in df['player_name']:\n",
    "    players[player].append(1)\n",
    "    for p in players:\n",
    "        if p != player:\n",
    "            players[p].append(0)\n",
    "for p in players:\n",
    "    df[p] = players[p]\n",
    "    features.append(p)"
   ]
  },
  {
   "cell_type": "code",
   "execution_count": 8,
   "metadata": {
    "collapsed": false
   },
   "outputs": [],
   "source": [
    "import time"
   ]
  },
  {
   "cell_type": "code",
   "execution_count": 9,
   "metadata": {
    "collapsed": false
   },
   "outputs": [
    {
     "name": "stdout",
     "output_type": "stream",
     "text": [
      "Score 0.5329 (+/- 0.0150)\n",
      "834.833921909\n"
     ]
    }
   ],
   "source": [
    "start = time.time()\n",
    "clf = MLPClassifier(hidden_layer_sizes=(len(features)), activation='tanh')\n",
    "print \"Score %.4f (+/- %.4f)\" % utils.get_cross_validated_score(df[features], df[target], clf)\n",
    "end = time.time()\n",
    "print end - start"
   ]
  }
 ],
 "metadata": {
  "kernelspec": {
   "display_name": "Python 2",
   "language": "python",
   "name": "python2"
  },
  "language_info": {
   "codemirror_mode": {
    "name": "ipython",
    "version": 2
   },
   "file_extension": ".py",
   "mimetype": "text/x-python",
   "name": "python",
   "nbconvert_exporter": "python",
   "pygments_lexer": "ipython2",
   "version": "2.7.12"
  }
 },
 "nbformat": 4,
 "nbformat_minor": 1
}
