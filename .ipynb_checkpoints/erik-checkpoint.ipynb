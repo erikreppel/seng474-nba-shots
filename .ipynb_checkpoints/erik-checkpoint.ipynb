{
 "cells": [
  {
   "cell_type": "markdown",
   "metadata": {},
   "source": [
    "## Prep the data"
   ]
  },
  {
   "cell_type": "code",
   "execution_count": 1,
   "metadata": {
    "collapsed": false
   },
   "outputs": [
    {
     "name": "stderr",
     "output_type": "stream",
     "text": [
      "/usr/local/lib/python2.7/dist-packages/sklearn/cross_validation.py:44: DeprecationWarning: This module was deprecated in version 0.18 in favor of the model_selection module into which all the refactored classes and functions are moved. Also note that the interface of the new CV iterators are different from that of this module. This module will be removed in 0.20.\n",
      "  \"This module will be removed in 0.20.\", DeprecationWarning)\n"
     ]
    }
   ],
   "source": [
    "import pandas as pd\n",
    "import numpy as np\n",
    "from sklearn.cross_validation import train_test_split\n",
    "import matplotlib.pyplot as plt\n",
    "import utils\n",
    "%matplotlib inline"
   ]
  },
  {
   "cell_type": "code",
   "execution_count": 2,
   "metadata": {
    "collapsed": false
   },
   "outputs": [],
   "source": [
    "df = pd.read_csv('shot_logs.csv')"
   ]
  },
  {
   "cell_type": "code",
   "execution_count": 3,
   "metadata": {
    "collapsed": true
   },
   "outputs": [],
   "source": [
    "# Choose the features\n",
    "features = [\n",
    "    \"SHOT_NUMBER\",\n",
    "    \"PERIOD\",\n",
    "#     \"GAME_CLOCK\",\n",
    "    \"SHOT_CLOCK\",\n",
    "    \"DRIBBLES\",\n",
    "    \"TOUCH_TIME\",\n",
    "    \"SHOT_DIST\",\n",
    "    \"PTS_TYPE\",\n",
    "    \"CLOSE_DEF_DIST\",\n",
    "#     \"FGM\",  # cant have this because it is knowledge from after the shot (indicates result)\n",
    "]\n",
    "\n",
    "non_scaled_features = [\n",
    "#     \"PTS_TYPE\"\n",
    "]\n",
    "\n",
    "advanced_features = [\n",
    "    \"LOCATION\",\n",
    "    \"GAME_ID\",\n",
    "    \"MATCHUP\",\n",
    "    \"player_id\",\n",
    "    \"CLOSEST_DEFENDER_PLAYER_ID\",\n",
    "]\n",
    "target = ['PTS']"
   ]
  },
  {
   "cell_type": "code",
   "execution_count": 4,
   "metadata": {
    "collapsed": false
   },
   "outputs": [],
   "source": [
    "# Run normalization functions\n",
    "df['SHOT_CLOCK'] = utils.normalize_shotclock(df['SHOT_CLOCK'])\n",
    "df['LOCATION'] = utils.normalize_location(df['LOCATION'])\n",
    "df['PTS'] = np.float64(df['PTS'])\n",
    "features.remove(\"PTS_TYPE\")\n",
    "df = utils.rescale_features(features, df, non_scaled_features)\n",
    "features.append(\"PTS_TYPE\")"
   ]
  },
  {
   "cell_type": "code",
   "execution_count": 5,
   "metadata": {
    "collapsed": false
   },
   "outputs": [],
   "source": [
    "# df[features]"
   ]
  },
  {
   "cell_type": "code",
   "execution_count": 6,
   "metadata": {
    "collapsed": true
   },
   "outputs": [],
   "source": [
    "# X_train, X_test, y_train, y_test = train_test_split(df[features], df[target], test_size=0.20, random_state=42)"
   ]
  },
  {
   "cell_type": "markdown",
   "metadata": {},
   "source": [
    "## Play with models"
   ]
  },
  {
   "cell_type": "code",
   "execution_count": 6,
   "metadata": {
    "collapsed": true
   },
   "outputs": [],
   "source": [
    "from sklearn.neural_network import MLPClassifier, MLPRegressor\n",
    "from sklearn.model_selection import cross_val_score"
   ]
  },
  {
   "cell_type": "code",
   "execution_count": 8,
   "metadata": {
    "collapsed": false
   },
   "outputs": [
    {
     "name": "stdout",
     "output_type": "stream",
     "text": [
      "Score 0.6097 (+/- 0.0014)\n"
     ]
    }
   ],
   "source": [
    "clf = MLPClassifier(hidden_layer_sizes=(100), activation='logistic')\n",
    "print \"Score %.4f (+/- %.4f)\" % utils.get_cross_validated_score(df[features], df[target], clf)"
   ]
  },
  {
   "cell_type": "code",
   "execution_count": 9,
   "metadata": {
    "collapsed": false
   },
   "outputs": [
    {
     "name": "stdout",
     "output_type": "stream",
     "text": [
      "Score 0.6106 (+/- 0.0061)\n"
     ]
    }
   ],
   "source": [
    "clf = MLPClassifier(hidden_layer_sizes=(len(features)), activation='logistic')\n",
    "print \"Score %.4f (+/- %.4f)\" % utils.get_cross_validated_score(df[features], df[target], clf)"
   ]
  },
  {
   "cell_type": "code",
   "execution_count": 10,
   "metadata": {
    "collapsed": false
   },
   "outputs": [
    {
     "name": "stdout",
     "output_type": "stream",
     "text": [
      "Score 0.6029 (+/- 0.0208)\n"
     ]
    }
   ],
   "source": [
    "clf = MLPClassifier(hidden_layer_sizes=(1000), activation='logistic')\n",
    "print \"Score %.4f (+/- %.4f)\" % utils.get_cross_validated_score(df[features], df[target], clf)"
   ]
  },
  {
   "cell_type": "code",
   "execution_count": 11,
   "metadata": {
    "collapsed": false
   },
   "outputs": [
    {
     "name": "stdout",
     "output_type": "stream",
     "text": [
      "Score 0.6141 (+/- 0.0061)\n"
     ]
    }
   ],
   "source": [
    "clf = MLPClassifier(hidden_layer_sizes=(100, 100, 100), activation='logistic')\n",
    "print \"Score %.4f (+/- %.4f)\" % utils.get_cross_validated_score(df[features], df[target], clf)"
   ]
  },
  {
   "cell_type": "code",
   "execution_count": 12,
   "metadata": {
    "collapsed": false
   },
   "outputs": [
    {
     "name": "stdout",
     "output_type": "stream",
     "text": [
      "Score 0.6043 (+/- 0.0285)\n"
     ]
    }
   ],
   "source": [
    "clf = MLPClassifier(hidden_layer_sizes=(100, 10, 3), activation='logistic')\n",
    "print \"Score %.4f (+/- %.4f)\" % utils.get_cross_validated_score(df[features], df[target], clf)"
   ]
  },
  {
   "cell_type": "code",
   "execution_count": 40,
   "metadata": {
    "collapsed": false
   },
   "outputs": [
    {
     "data": {
      "image/png": "[encoded data removed]",
      "text/plain": [
       "<matplotlib.figure.Figure at 0x7fdd80656790>"
      ]
     },
     "metadata": {},
     "output_type": "display_data"
    }
   ],
   "source": [
    "results = np.array([0.6097, 0.6106, 0.6029, 0.6141, 0.6043])\n",
    "error = np.array([0.0014, .0061, .0208, .0061, 0.0285])\n",
    "lower = results - error\n",
    "upper = results + error\n",
    "x = range(len(results))\n",
    "\n",
    "labels = [\"(100)\", \"(len(features))\", \"(1000)\", \"(100, 100, 100)\", \"(100, 10, 3)\"]\n",
    "\n",
    "fig = plt.figure()\n",
    "ax = fig.add_subplot(111)\n",
    "plt.xticks(x, labels)\n",
    "ax.set_title(\"Scores of different MLPClassifier hidden layer shapes\")\n",
    "ax.set_xlabel(\"Hidden layer shape\")\n",
    "ax.set_ylabel(\"Score\")\n",
    "plt.errorbar(x, results, yerr=error)\n",
    "for index, result in enumerate(results):\n",
    "    ax.annotate(result, xy=(index, result))\n",
    "# print upper, lower"
   ]
  },
  {
   "cell_type": "code",
   "execution_count": 7,
   "metadata": {
    "collapsed": false
   },
   "outputs": [
    {
     "name": "stdout",
     "output_type": "stream",
     "text": [
      "0.264669826422 0.735330173578\n"
     ]
    }
   ],
   "source": [
    "df_3pts = df[df['PTS_TYPE'] == 3.0]\n",
    "df_2pts = df[df['PTS_TYPE'] == 2.0]\n",
    "df_1pts = df[df['PTS_TYPE'] == 1.0]\n",
    "print len(df_3pts) / float(len(df)), len(df_2pts) / float(len(df))"
   ]
  },
  {
   "cell_type": "code",
   "execution_count": 14,
   "metadata": {
    "collapsed": false
   },
   "outputs": [],
   "source": [
    "# X3_train, X3_test, y3_train, y3_test = train_test_split(df_3pts[features], df_3pts[target], test_size=0.20, random_state=42)\n",
    "# X2_train, X2_test, y2_train, y2_test = train_test_split(df_2pts[features], df_2pts[target], test_size=0.20, random_state=42)"
   ]
  },
  {
   "cell_type": "code",
   "execution_count": 8,
   "metadata": {
    "collapsed": false
   },
   "outputs": [
    {
     "name": "stdout",
     "output_type": "stream",
     "text": [
      "Score 0.6485 (+/- 0.0000)\n"
     ]
    }
   ],
   "source": [
    "clf = MLPClassifier(hidden_layer_sizes=(len(features)), activation='logistic')\n",
    "print \"Score %.4f (+/- %.4f)\" % utils.get_cross_validated_score(\n",
    "    df_3pts[features], df_3pts[target], clf)"
   ]
  },
  {
   "cell_type": "code",
   "execution_count": 9,
   "metadata": {
    "collapsed": false
   },
   "outputs": [
    {
     "name": "stdout",
     "output_type": "stream",
     "text": [
      "Score 0.5965 (+/- 0.0065)\n"
     ]
    }
   ],
   "source": [
    "clf = MLPClassifier(hidden_layer_sizes=(len(features)), activation='logistic')\n",
    "print \"Score %.4f (+/- %.4f)\" % utils.get_cross_validated_score(\n",
    "    df_2pts[features], df_2pts[target], clf)"
   ]
  },
  {
   "cell_type": "code",
   "execution_count": 8,
   "metadata": {
    "collapsed": false
   },
   "outputs": [],
   "source": [
    "shots = pd.read_csv('shots_with_player_data.csv')"
   ]
  },
  {
   "cell_type": "code",
   "execution_count": 9,
   "metadata": {
    "collapsed": false
   },
   "outputs": [
    {
     "data": {
      "text/plain": [
       "Index([u'Unnamed: 0', u'GAME_ID', u'MATCHUP', u'LOCATION', u'W',\n",
       "       u'FINAL_MARGIN', u'SHOT_NUMBER', u'PERIOD', u'GAME_CLOCK',\n",
       "       u'SHOT_CLOCK', u'DRIBBLES', u'TOUCH_TIME', u'SHOT_DIST', u'PTS_TYPE',\n",
       "       u'SHOT_RESULT', u'CLOSEST_DEFENDER', u'CLOSEST_DEFENDER_PLAYER_ID',\n",
       "       u'CLOSE_DEF_DIST', u'FGM', u'PTS', u'player_name', u'player_id',\n",
       "       u'FG3A', u'FG_PCT', u'FG3M', u'FG3_PCT', u'FGA'],\n",
       "      dtype='object')"
      ]
     },
     "execution_count": 9,
     "metadata": {},
     "output_type": "execute_result"
    }
   ],
   "source": [
    "advanced_features = [\n",
    "    'LOCATION',\n",
    "    'SHOT_NUMBER',\n",
    "    'SHOT_CLOCK',\n",
    "    'DRIBBLES',\n",
    "    'TOUCH_TIME',\n",
    "    'SHOT_DIST',\n",
    "    'PTS_TYPE',\n",
    "    'CLOSE_DEF_DIST',\n",
    "    'PTS',\n",
    "    'FG3A',\n",
    "    'FG_PCT',\n",
    "    'FG3M',\n",
    "    'FG3_PCT',\n",
    "    'FGA'\n",
    "]"
   ]
  }
 ],
 "metadata": {
  "kernelspec": {
   "display_name": "Python 2",
   "language": "python",
   "name": "python2"
  },
  "language_info": {
   "codemirror_mode": {
    "name": "ipython",
    "version": 2
   },
   "file_extension": ".py",
   "mimetype": "text/x-python",
   "name": "python",
   "nbconvert_exporter": "python",
   "pygments_lexer": "ipython2",
   "version": "2.7.12"
  }
 },
 "nbformat": 4,
 "nbformat_minor": 1
}
