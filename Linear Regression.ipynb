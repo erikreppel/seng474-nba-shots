{
 "cells": [
  {
   "cell_type": "code",
   "execution_count": 92,
   "metadata": {
    "collapsed": false
   },
   "outputs": [],
   "source": [
    "import utils\n",
    "import pandas as pd\n",
    "import numpy as np\n",
    "from sklearn.linear_model import LinearRegression\n",
    "from sklearn.cross_validation import train_test_split\n",
    "import matplotlib.pyplot as plt\n",
    "%matplotlib inline"
   ]
  },
  {
   "cell_type": "code",
   "execution_count": 93,
   "metadata": {
    "collapsed": false
   },
   "outputs": [],
   "source": [
    "df = pd.read_csv('shot_logs.csv')"
   ]
  },
  {
   "cell_type": "code",
   "execution_count": 94,
   "metadata": {
    "collapsed": true
   },
   "outputs": [],
   "source": [
    "# Choose the features\n",
    "features = [\n",
    "    \"SHOT_NUMBER\",\n",
    "    \"PERIOD\",\n",
    "#     \"GAME_CLOCK\",\n",
    "    \"SHOT_CLOCK\",\n",
    "    \"DRIBBLES\",\n",
    "    \"TOUCH_TIME\",\n",
    "    \"SHOT_DIST\",\n",
    "    \"PTS_TYPE\",\n",
    "    \"CLOSE_DEF_DIST\",\n",
    "#     \"FGM\",  # cant have this because it is knowledge from after the shot (indicates result)\n",
    "]\n",
    "\n",
    "non_scaled_features = [\n",
    "#     \"PTS_TYPE\"\n",
    "]\n",
    "\n",
    "advanced_features = [\n",
    "    \"LOCATION\",\n",
    "    \"GAME_ID\",\n",
    "    \"MATCHUP\",\n",
    "    \"player_id\",\n",
    "    \"CLOSEST_DEFENDER_PLAYER_ID\",\n",
    "]\n",
    "target = ['PTS']"
   ]
  },
  {
   "cell_type": "code",
   "execution_count": 95,
   "metadata": {
    "collapsed": true
   },
   "outputs": [],
   "source": [
    "# Run normalization functions\n",
    "df['SHOT_CLOCK'] = utils.normalize_shotclock(df['SHOT_CLOCK'])\n",
    "df['LOCATION'] = utils.normalize_location(df['LOCATION'])\n",
    "df['PTS'] = np.float64(df['PTS'])\n",
    "features.remove(\"PTS_TYPE\")\n",
    "df = utils.rescale_features(features, df, non_scaled_features)\n",
    "features.append(\"PTS_TYPE\")"
   ]
  },
  {
   "cell_type": "code",
   "execution_count": 96,
   "metadata": {
    "collapsed": true
   },
   "outputs": [],
   "source": [
    "X_train, X_test, y_train, y_test = train_test_split(df[features], df[target], test_size=0.25, random_state=42)"
   ]
  },
  {
   "cell_type": "code",
   "execution_count": 97,
   "metadata": {
    "collapsed": false
   },
   "outputs": [],
   "source": [
    "model = LinearRegression(normalize=True, n_jobs=-1)"
   ]
  },
  {
   "cell_type": "code",
   "execution_count": 98,
   "metadata": {
    "collapsed": false
   },
   "outputs": [
    {
     "data": {
      "text/plain": [
       "0.034925015143826066"
      ]
     },
     "execution_count": 98,
     "metadata": {},
     "output_type": "execute_result"
    }
   ],
   "source": [
    "model.fit(X_train, y_train)\n",
    "model.score(X_test, y_test)"
   ]
  },
  {
   "cell_type": "code",
   "execution_count": 99,
   "metadata": {
    "collapsed": false
   },
   "outputs": [],
   "source": [
    "def get_score(X_train, y_train):\n",
    "    model.fit(X_train, y_train)\n",
    "    return model.score(X_test, y_test)"
   ]
  },
  {
   "cell_type": "code",
   "execution_count": 100,
   "metadata": {
    "collapsed": true
   },
   "outputs": [],
   "source": [
    "def shuffle_y(X_train, y_train):\n",
    "    '''\n",
    "    Randomly shuffles training shot values in place, refits model then returns score\n",
    "    '''\n",
    "    np.random.shuffle(y_train)\n",
    "    return get_score(X_train, y_train)"
   ]
  },
  {
   "cell_type": "code",
   "execution_count": 101,
   "metadata": {
    "collapsed": false
   },
   "outputs": [],
   "source": [
    "y = y_train.as_matrix()"
   ]
  },
  {
   "cell_type": "code",
   "execution_count": 102,
   "metadata": {
    "collapsed": false
   },
   "outputs": [],
   "source": [
    "model.fit(X_train, y)\n",
    "actual = model.score(X_test, y_test)"
   ]
  },
  {
   "cell_type": "code",
   "execution_count": 105,
   "metadata": {
    "collapsed": false
   },
   "outputs": [],
   "source": [
    "results = []\n",
    "for i in range(100):\n",
    "    np.random.shuffle(y)\n",
    "    model.fit(X_train, y)\n",
    "    result = model.score(X_test, y_test)\n",
    "    results.append(result)"
   ]
  },
  {
   "cell_type": "code",
   "execution_count": 106,
   "metadata": {
    "collapsed": false
   },
   "outputs": [
    {
     "data": {
      "text/plain": [
       "(array([  1.,   5.,   8.,  12.,  22.,  14.,  15.,   8.,  11.,   4.]),\n",
       " array([-0.00322705, -0.00265783, -0.00208862, -0.0015194 , -0.00095018,\n",
       "        -0.00038097,  0.00018825,  0.00075747,  0.00132668,  0.0018959 ,\n",
       "         0.00246512]),\n",
       " <a list of 10 Patch objects>)"
      ]
     },
     "execution_count": 106,
     "metadata": {},
     "output_type": "execute_result"
    },
    {
     "data": {
      "image/png": "[encoded data removed]",
      "text/plain": [
       "<matplotlib.figure.Figure at 0x1124786d0>"
      ]
     },
     "metadata": {},
     "output_type": "display_data"
    }
   ],
   "source": [
    "plt.hist(results)"
   ]
  },
  {
   "cell_type": "code",
   "execution_count": null,
   "metadata": {
    "collapsed": true
   },
   "outputs": [],
   "source": []
  }
 ],
 "metadata": {
  "anaconda-cloud": {},
  "kernelspec": {
   "display_name": "Python 2",
   "language": "python",
   "name": "python2"
  }
 },
 "nbformat": 4,
 "nbformat_minor": 0
}
