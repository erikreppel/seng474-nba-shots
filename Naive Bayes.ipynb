{
 "cells": [
  {
   "cell_type": "code",
   "execution_count": 2,
   "metadata": {
    "collapsed": false
   },
   "outputs": [
    {
     "name": "stderr",
     "output_type": "stream",
     "text": [
      "//anaconda/lib/python2.7/site-packages/sklearn/cross_validation.py:44: DeprecationWarning: This module was deprecated in version 0.18 in favor of the model_selection module into which all the refactored classes and functions are moved. Also note that the interface of the new CV iterators are different from that of this module. This module will be removed in 0.20.\n",
      "  \"This module will be removed in 0.20.\", DeprecationWarning)\n"
     ]
    }
   ],
   "source": [
    "import pandas as pd\n",
    "import numpy as np\n",
    "import sklearn.naive_bayes as nb\n",
    "from sklearn.cross_validation import train_test_split\n",
    "import utils\n",
    "import matplotlib.pyplot as plt\n",
    "%matplotlib inline"
   ]
  },
  {
   "cell_type": "code",
   "execution_count": 3,
   "metadata": {
    "collapsed": true
   },
   "outputs": [],
   "source": [
    "df = pd.read_csv('shot_logs.csv')"
   ]
  },
  {
   "cell_type": "code",
   "execution_count": 4,
   "metadata": {
    "collapsed": true
   },
   "outputs": [],
   "source": [
    "# Choose the features\n",
    "features = [\n",
    "    \"SHOT_NUMBER\",\n",
    "    \"PERIOD\",\n",
    "#     \"GAME_CLOCK\",\n",
    "    \"SHOT_CLOCK\",\n",
    "    \"DRIBBLES\",\n",
    "    \"TOUCH_TIME\",\n",
    "    \"SHOT_DIST\",\n",
    "    \"PTS_TYPE\",\n",
    "    \"CLOSE_DEF_DIST\",\n",
    "#     \"FGM\",  # cant have this because it is knowledge from after the shot (indicates result)\n",
    "]\n",
    "\n",
    "non_scaled_features = [\n",
    "#     \"PTS_TYPE\"\n",
    "]\n",
    "\n",
    "advanced_features = [\n",
    "    \"LOCATION\",\n",
    "    \"GAME_ID\",\n",
    "    \"MATCHUP\",\n",
    "    \"player_id\",\n",
    "    \"CLOSEST_DEFENDER_PLAYER_ID\",\n",
    "]\n",
    "target = ['PTS']"
   ]
  },
  {
   "cell_type": "code",
   "execution_count": 5,
   "metadata": {
    "collapsed": true
   },
   "outputs": [],
   "source": [
    "# Run normalization functions\n",
    "df['SHOT_CLOCK'] = utils.normalize_shotclock(df['SHOT_CLOCK'])\n",
    "df['LOCATION'] = utils.normalize_location(df['LOCATION'])\n",
    "df['PTS'] = np.float64(df['PTS'])\n",
    "features.remove(\"PTS_TYPE\")\n",
    "df = utils.rescale_features(features, df, non_scaled_features)\n",
    "features.append(\"PTS_TYPE\")"
   ]
  },
  {
   "cell_type": "code",
   "execution_count": 6,
   "metadata": {
    "collapsed": true
   },
   "outputs": [],
   "source": [
    "X_train, X_test, y_train, y_test = train_test_split(df[features], df[target], test_size=0.25, random_state=42)"
   ]
  },
  {
   "cell_type": "code",
   "execution_count": 7,
   "metadata": {
    "collapsed": false
   },
   "outputs": [],
   "source": [
    "y = y_train.values.ravel()"
   ]
  },
  {
   "cell_type": "code",
   "execution_count": 8,
   "metadata": {
    "collapsed": false
   },
   "outputs": [],
   "source": [
    "model = nb.GaussianNB()"
   ]
  },
  {
   "cell_type": "code",
   "execution_count": 9,
   "metadata": {
    "collapsed": true
   },
   "outputs": [],
   "source": [
    "def predict(i=None):\n",
    "    model.fit(X_train, y)\n",
    "    return model.score(X_test, y_test)"
   ]
  },
  {
   "cell_type": "code",
   "execution_count": 10,
   "metadata": {
    "collapsed": false
   },
   "outputs": [],
   "source": [
    "def shuffle_y(i):\n",
    "    '''\n",
    "    Randomly shuffles training shot values in place, refits model then returns score\n",
    "    '''\n",
    "    np.random.shuffle(y)\n",
    "    return predict()"
   ]
  },
  {
   "cell_type": "code",
   "execution_count": 11,
   "metadata": {
    "collapsed": false
   },
   "outputs": [
    {
     "name": "stdout",
     "output_type": "stream",
     "text": [
      "0.457461427947\n"
     ]
    }
   ],
   "source": [
    "actual = predict()\n",
    "print actual\n",
    "results = map(shuffle_y, range(100))"
   ]
  },
  {
   "cell_type": "code",
   "execution_count": 13,
   "metadata": {
    "collapsed": false
   },
   "outputs": [
    {
     "data": {
      "text/plain": [
       "<matplotlib.text.Text at 0x103996b50>"
      ]
     },
     "execution_count": 13,
     "metadata": {},
     "output_type": "execute_result"
    },
    {
     "data": {
      "image/png": "[encoded data removed]",
      "text/plain": [
       "<matplotlib.figure.Figure at 0x10e36ba50>"
      ]
     },
     "metadata": {},
     "output_type": "display_data"
    }
   ],
   "source": [
    "plt.hist(results)\n",
    "plt.title('Shuffled Naive Bayes Scores')\n",
    "plt.xlabel('Score')\n",
    "plt.ylabel('Occurences')"
   ]
  },
  {
   "cell_type": "code",
   "execution_count": null,
   "metadata": {
    "collapsed": true
   },
   "outputs": [],
   "source": []
  }
 ],
 "metadata": {
  "kernelspec": {
   "display_name": "Python 2",
   "language": "python",
   "name": "python2"
  },
  "language_info": {
   "codemirror_mode": {
    "name": "ipython",
    "version": 2
   },
   "file_extension": ".py",
   "mimetype": "text/x-python",
   "name": "python",
   "nbconvert_exporter": "python",
   "pygments_lexer": "ipython2",
   "version": "2.7.11"
  }
 },
 "nbformat": 4,
 "nbformat_minor": 0
}
