{
 "cells": [
  {
   "cell_type": "code",
   "execution_count": 1,
   "metadata": {
    "collapsed": false
   },
   "outputs": [
    {
     "name": "stderr",
     "output_type": "stream",
     "text": [
      "//anaconda/lib/python2.7/site-packages/sklearn/cross_validation.py:44: DeprecationWarning: This module was deprecated in version 0.18 in favor of the model_selection module into which all the refactored classes and functions are moved. Also note that the interface of the new CV iterators are different from that of this module. This module will be removed in 0.20.\n",
      "  \"This module will be removed in 0.20.\", DeprecationWarning)\n"
     ]
    }
   ],
   "source": [
    "import pandas as pd\n",
    "import numpy as np\n",
    "import sklearn.naive_bayes as nb\n",
    "from sklearn.cross_validation import train_test_split\n",
    "import matplotlib.pyplot as plt\n",
    "import utils\n",
    "%matplotlib inline\n",
    "from sklearn.neural_network import MLPClassifier, MLPRegressor\n",
    "from sklearn.model_selection import cross_val_score"
   ]
  },
  {
   "cell_type": "code",
   "execution_count": 2,
   "metadata": {
    "collapsed": true
   },
   "outputs": [],
   "source": [
    "df = pd.read_csv('shot_logs.csv')"
   ]
  },
  {
   "cell_type": "code",
   "execution_count": 3,
   "metadata": {
    "collapsed": true
   },
   "outputs": [],
   "source": [
    "features = ['SHOT_DIST']\n",
    "target = ['PTS']"
   ]
  },
  {
   "cell_type": "code",
   "execution_count": 4,
   "metadata": {
    "collapsed": true
   },
   "outputs": [],
   "source": [
    "x_train, x_test, y_train, y_test = train_test_split(df[features], df[target], test_size=0.25, random_state=42)"
   ]
  },
  {
   "cell_type": "code",
   "execution_count": 5,
   "metadata": {
    "collapsed": true
   },
   "outputs": [],
   "source": [
    "y = y_train.values.ravel()"
   ]
  },
  {
   "cell_type": "code",
   "execution_count": 6,
   "metadata": {
    "collapsed": true
   },
   "outputs": [],
   "source": [
    "model = nb.GaussianNB()"
   ]
  },
  {
   "cell_type": "code",
   "execution_count": 7,
   "metadata": {
    "collapsed": true
   },
   "outputs": [],
   "source": [
    "def predict():\n",
    "    model.fit(x_train, y)\n",
    "    return model.score(x_test, y_test)"
   ]
  },
  {
   "cell_type": "code",
   "execution_count": 8,
   "metadata": {
    "collapsed": false
   },
   "outputs": [
    {
     "data": {
      "text/plain": [
       "0.52835904803548006"
      ]
     },
     "execution_count": 8,
     "metadata": {},
     "output_type": "execute_result"
    }
   ],
   "source": [
    "predict()"
   ]
  },
  {
   "cell_type": "code",
   "execution_count": 9,
   "metadata": {
    "collapsed": true
   },
   "outputs": [],
   "source": [
    "features = ['SHOT_DIST', 'CLOSE_DEF_DIST']"
   ]
  },
  {
   "cell_type": "code",
   "execution_count": 10,
   "metadata": {
    "collapsed": true
   },
   "outputs": [],
   "source": [
    "x_train, x_test, y_train, y_test = train_test_split(df[features], df[target], test_size=0.25, random_state=42)"
   ]
  },
  {
   "cell_type": "code",
   "execution_count": 11,
   "metadata": {
    "collapsed": true
   },
   "outputs": [],
   "source": [
    "y = y_train.values.ravel()"
   ]
  },
  {
   "cell_type": "code",
   "execution_count": 12,
   "metadata": {
    "collapsed": false
   },
   "outputs": [
    {
     "data": {
      "text/plain": [
       "0.53051408582672244"
      ]
     },
     "execution_count": 12,
     "metadata": {},
     "output_type": "execute_result"
    }
   ],
   "source": [
    "predict()"
   ]
  },
  {
   "cell_type": "code",
   "execution_count": 13,
   "metadata": {
    "collapsed": true
   },
   "outputs": [],
   "source": [
    "features = ['SHOT_NUMBER', 'SHOT_DIST', 'CLOSE_DEF_DIST']"
   ]
  },
  {
   "cell_type": "code",
   "execution_count": 14,
   "metadata": {
    "collapsed": true
   },
   "outputs": [],
   "source": [
    "x_train, x_test, y_train, y_test = train_test_split(df[features], df[target], test_size=0.25, random_state=42)"
   ]
  },
  {
   "cell_type": "code",
   "execution_count": 15,
   "metadata": {
    "collapsed": true
   },
   "outputs": [],
   "source": [
    "y = y_train.values.ravel()"
   ]
  },
  {
   "cell_type": "code",
   "execution_count": 16,
   "metadata": {
    "collapsed": false
   },
   "outputs": [
    {
     "data": {
      "text/plain": [
       "0.5307951777125367"
      ]
     },
     "execution_count": 16,
     "metadata": {},
     "output_type": "execute_result"
    }
   ],
   "source": [
    "predict()"
   ]
  },
  {
   "cell_type": "code",
   "execution_count": 17,
   "metadata": {
    "collapsed": true
   },
   "outputs": [],
   "source": [
    "features = ['SHOT_NUMBER', 'SHOT_DIST', 'CLOSE_DEF_DIST', 'PERIOD']"
   ]
  },
  {
   "cell_type": "code",
   "execution_count": 18,
   "metadata": {
    "collapsed": false
   },
   "outputs": [
    {
     "data": {
      "text/plain": [
       "0.53051408582672244"
      ]
     },
     "execution_count": 18,
     "metadata": {},
     "output_type": "execute_result"
    }
   ],
   "source": [
    "x_train, x_test, y_train, y_test = train_test_split(df[features], df[target], test_size=0.25, random_state=42)\n",
    "y = y_train.values.ravel()\n",
    "predict()"
   ]
  },
  {
   "cell_type": "code",
   "execution_count": 19,
   "metadata": {
    "collapsed": false
   },
   "outputs": [],
   "source": [
    "features = ['SHOT_NUMBER', 'PERIOD', 'SHOT_CLOCK', 'DRIBBLES', 'TOUCH_TIME', 'SHOT_DIST', 'PTS_TYPE', 'CLOSE_DEF_DIST']\n",
    "df['PTS'] = np.float64(df['PTS'])\n",
    "df['SHOT_NUMBER'] = utils.rescale(df['SHOT_NUMBER'])\n",
    "df['PERIOD'] = utils.rescale(df['PERIOD'])\n",
    "df['SHOT_CLOCK'] = utils.normalize_shotclock(df['SHOT_CLOCK'])\n",
    "df['DRIBBLES'] = utils.rescale(df['DRIBBLES'])\n",
    "df['TOUCH_TIME'] = utils.rescale(df['TOUCH_TIME'])\n",
    "df['SHOT_DIST'] = utils.rescale(df['SHOT_DIST'])\n",
    "df['CLOSE_DEF_DIST'] = utils.rescale(df['CLOSE_DEF_DIST'])"
   ]
  },
  {
   "cell_type": "code",
   "execution_count": 20,
   "metadata": {
    "collapsed": false
   },
   "outputs": [
    {
     "name": "stdout",
     "output_type": "stream",
     "text": [
      "['SHOT_NUMBER']\n",
      "Score 0.5479 (+/- 0.0000)\n",
      "['SHOT_NUMBER', 'PERIOD']\n",
      "Score 0.5479 (+/- 0.0000)\n",
      "['SHOT_NUMBER', 'PERIOD', 'SHOT_CLOCK']\n",
      "Score 0.5540 (+/- 0.0040)\n",
      "['SHOT_NUMBER', 'PERIOD', 'SHOT_CLOCK', 'DRIBBLES']\n",
      "Score 0.5562 (+/- 0.0015)\n",
      "['SHOT_NUMBER', 'PERIOD', 'SHOT_CLOCK', 'DRIBBLES', 'TOUCH_TIME']\n",
      "Score 0.5566 (+/- 0.0018)\n",
      "['SHOT_NUMBER', 'PERIOD', 'SHOT_CLOCK', 'DRIBBLES', 'TOUCH_TIME', 'SHOT_DIST']\n",
      "Score 0.6108 (+/- 0.0037)\n",
      "['SHOT_NUMBER', 'PERIOD', 'SHOT_CLOCK', 'DRIBBLES', 'TOUCH_TIME', 'SHOT_DIST', 'PTS_TYPE']\n",
      "Score 0.6079 (+/- 0.0048)\n",
      "['SHOT_NUMBER', 'PERIOD', 'SHOT_CLOCK', 'DRIBBLES', 'TOUCH_TIME', 'SHOT_DIST', 'PTS_TYPE', 'CLOSE_DEF_DIST']\n",
      "Score 0.6142 (+/- 0.0051)\n",
      "['PERIOD']\n",
      "Score 0.5479 (+/- 0.0000)\n",
      "['PERIOD', 'SHOT_CLOCK']\n",
      "Score 0.5518 (+/- 0.0029)\n",
      "['PERIOD', 'SHOT_CLOCK', 'DRIBBLES']\n",
      "Score 0.5544 (+/- 0.0027)\n",
      "['PERIOD', 'SHOT_CLOCK', 'DRIBBLES', 'TOUCH_TIME']\n",
      "Score 0.5563 (+/- 0.0009)\n",
      "['PERIOD', 'SHOT_CLOCK', 'DRIBBLES', 'TOUCH_TIME', 'SHOT_DIST']\n",
      "Score 0.6103 (+/- 0.0043)\n",
      "['PERIOD', 'SHOT_CLOCK', 'DRIBBLES', 'TOUCH_TIME', 'SHOT_DIST', 'PTS_TYPE']\n",
      "Score 0.6075 (+/- 0.0053)\n",
      "['PERIOD', 'SHOT_CLOCK', 'DRIBBLES', 'TOUCH_TIME', 'SHOT_DIST', 'PTS_TYPE', 'CLOSE_DEF_DIST']\n",
      "Score 0.6160 (+/- 0.0047)\n",
      "['SHOT_CLOCK']\n",
      "Score 0.5548 (+/- 0.0023)\n",
      "['SHOT_CLOCK', 'DRIBBLES']\n",
      "Score 0.5560 (+/- 0.0019)\n",
      "['SHOT_CLOCK', 'DRIBBLES', 'TOUCH_TIME']\n",
      "Score 0.5566 (+/- 0.0021)\n",
      "['SHOT_CLOCK', 'DRIBBLES', 'TOUCH_TIME', 'SHOT_DIST']\n",
      "Score 0.6111 (+/- 0.0045)\n",
      "['SHOT_CLOCK', 'DRIBBLES', 'TOUCH_TIME', 'SHOT_DIST', 'PTS_TYPE']\n",
      "Score 0.6048 (+/- 0.0082)\n",
      "['SHOT_CLOCK', 'DRIBBLES', 'TOUCH_TIME', 'SHOT_DIST', 'PTS_TYPE', 'CLOSE_DEF_DIST']\n",
      "Score 0.6158 (+/- 0.0039)\n",
      "['DRIBBLES']\n",
      "Score 0.5479 (+/- 0.0000)\n",
      "['DRIBBLES', 'TOUCH_TIME']\n",
      "Score 0.5479 (+/- 0.0000)\n",
      "['DRIBBLES', 'TOUCH_TIME', 'SHOT_DIST']\n",
      "Score 0.6093 (+/- 0.0046)\n",
      "['DRIBBLES', 'TOUCH_TIME', 'SHOT_DIST', 'PTS_TYPE']\n",
      "Score 0.6069 (+/- 0.0054)\n",
      "['DRIBBLES', 'TOUCH_TIME', 'SHOT_DIST', 'PTS_TYPE', 'CLOSE_DEF_DIST']\n",
      "Score 0.6151 (+/- 0.0042)\n",
      "['TOUCH_TIME']\n",
      "Score 0.5478 (+/- 0.0000)\n",
      "['TOUCH_TIME', 'SHOT_DIST']\n",
      "Score 0.6096 (+/- 0.0040)\n",
      "['TOUCH_TIME', 'SHOT_DIST', 'PTS_TYPE']\n",
      "Score 0.6095 (+/- 0.0038)\n",
      "['TOUCH_TIME', 'SHOT_DIST', 'PTS_TYPE', 'CLOSE_DEF_DIST']\n",
      "Score 0.6141 (+/- 0.0046)\n",
      "['SHOT_DIST']\n",
      "Score 0.6092 (+/- 0.0038)\n",
      "['SHOT_DIST', 'PTS_TYPE']\n",
      "Score 0.6092 (+/- 0.0044)\n",
      "['SHOT_DIST', 'PTS_TYPE', 'CLOSE_DEF_DIST']\n",
      "Score 0.6153 (+/- 0.0034)\n",
      "['PTS_TYPE']\n",
      "Score 0.5430 (+/- 0.0098)\n",
      "['PTS_TYPE', 'CLOSE_DEF_DIST']\n",
      "Score 0.5519 (+/- 0.0008)\n",
      "['CLOSE_DEF_DIST']\n",
      "Score 0.5479 (+/- 0.0002)\n",
      "['Score 0.5430 (+/- 0.0098)', 'Score 0.5478 (+/- 0.0000)', 'Score 0.5479 (+/- 0.0000)', 'Score 0.5479 (+/- 0.0000)', 'Score 0.5479 (+/- 0.0000)', 'Score 0.5479 (+/- 0.0000)', 'Score 0.5479 (+/- 0.0000)', 'Score 0.5479 (+/- 0.0002)', 'Score 0.5518 (+/- 0.0029)', 'Score 0.5519 (+/- 0.0008)', 'Score 0.5540 (+/- 0.0040)', 'Score 0.5544 (+/- 0.0027)', 'Score 0.5548 (+/- 0.0023)', 'Score 0.5560 (+/- 0.0019)', 'Score 0.5562 (+/- 0.0015)', 'Score 0.5563 (+/- 0.0009)', 'Score 0.5566 (+/- 0.0018)', 'Score 0.5566 (+/- 0.0021)', 'Score 0.6048 (+/- 0.0082)', 'Score 0.6069 (+/- 0.0054)', 'Score 0.6075 (+/- 0.0053)', 'Score 0.6079 (+/- 0.0048)', 'Score 0.6092 (+/- 0.0038)', 'Score 0.6092 (+/- 0.0044)', 'Score 0.6093 (+/- 0.0046)', 'Score 0.6095 (+/- 0.0038)', 'Score 0.6096 (+/- 0.0040)', 'Score 0.6103 (+/- 0.0043)', 'Score 0.6108 (+/- 0.0037)', 'Score 0.6111 (+/- 0.0045)', 'Score 0.6141 (+/- 0.0046)', 'Score 0.6142 (+/- 0.0051)', 'Score 0.6151 (+/- 0.0042)', 'Score 0.6153 (+/- 0.0034)', 'Score 0.6158 (+/- 0.0039)', 'Score 0.6160 (+/- 0.0047)']\n"
     ]
    }
   ],
   "source": [
    "score_list = []\n",
    "\n",
    "def sub_lists(my_list):\n",
    "    for i in range(len(my_list)):  \n",
    "        n = i+1  \n",
    "        while n <= len(my_list):  \n",
    "            sub = my_list[i:n]  \n",
    "            clf = MLPClassifier(hidden_layer_sizes=(10, 10), activation='tanh')\n",
    "            print sub\n",
    "            score = \"Score %.4f (+/- %.4f)\" % utils.get_cross_validated_score(df[sub], df[target], clf)\n",
    "            print score\n",
    "            score_list.append(score)\n",
    "            n += 1  \n",
    "\n",
    "sub_lists(features)\n",
    "score_list.sort()\n",
    "print score_list"
   ]
  },
  {
   "cell_type": "code",
   "execution_count": 21,
   "metadata": {
    "collapsed": false
   },
   "outputs": [
    {
     "name": "stdout",
     "output_type": "stream",
     "text": [
      "Score 0.6168 (+/- 0.0047)\n"
     ]
    }
   ],
   "source": [
    "clf = MLPClassifier(hidden_layer_sizes=(10, 10), activation='tanh')\n",
    "score = \"Score %.4f (+/- %.4f)\" % utils.get_cross_validated_score(df[features], df[target], clf)\n",
    "print score"
   ]
  }
 ],
 "metadata": {
  "kernelspec": {
   "display_name": "Python 2",
   "language": "python",
   "name": "python2"
  },
  "language_info": {
   "codemirror_mode": {
    "name": "ipython",
    "version": 2
   },
   "file_extension": ".py",
   "mimetype": "text/x-python",
   "name": "python",
   "nbconvert_exporter": "python",
   "pygments_lexer": "ipython2",
   "version": "2.7.11"
  }
 },
 "nbformat": 4,
 "nbformat_minor": 0
}
