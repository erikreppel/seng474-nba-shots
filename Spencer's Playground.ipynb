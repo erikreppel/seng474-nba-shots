{
 "cells": [
  {
   "cell_type": "code",
   "execution_count": 2,
   "metadata": {
    "collapsed": true
   },
   "outputs": [],
   "source": [
    "import pandas as pd\n",
    "import numpy as np\n",
    "import sklearn.naive_bayes as nb\n",
    "from sklearn.cross_validation import train_test_split\n",
    "import matplotlib.pyplot as plt\n",
    "import utils\n",
    "%matplotlib inline"
   ]
  },
  {
   "cell_type": "code",
   "execution_count": 3,
   "metadata": {
    "collapsed": true
   },
   "outputs": [],
   "source": [
    "df = pd.read_csv('shot_logs.csv')"
   ]
  },
  {
   "cell_type": "code",
   "execution_count": 4,
   "metadata": {
    "collapsed": true
   },
   "outputs": [],
   "source": [
    "features = ['SHOT_DIST']\n",
    "target = ['PTS']"
   ]
  },
  {
   "cell_type": "code",
   "execution_count": 5,
   "metadata": {
    "collapsed": true
   },
   "outputs": [],
   "source": [
    "x_train, x_test, y_train, y_test = train_test_split(df[features], df[target], test_size=0.25, random_state=42)"
   ]
  },
  {
   "cell_type": "code",
   "execution_count": 6,
   "metadata": {
    "collapsed": true
   },
   "outputs": [],
   "source": [
    "y = y_train.values.ravel()"
   ]
  },
  {
   "cell_type": "code",
   "execution_count": 7,
   "metadata": {
    "collapsed": true
   },
   "outputs": [],
   "source": [
    "model = nb.GaussianNB()"
   ]
  },
  {
   "cell_type": "code",
   "execution_count": 8,
   "metadata": {
    "collapsed": true
   },
   "outputs": [],
   "source": [
    "def predict():\n",
    "    model.fit(x_train, y)\n",
    "    return model.score(x_test, y_test)"
   ]
  },
  {
   "cell_type": "code",
   "execution_count": 9,
   "metadata": {
    "collapsed": false
   },
   "outputs": [
    {
     "data": {
      "text/plain": [
       "0.52835904803548006"
      ]
     },
     "execution_count": 9,
     "metadata": {},
     "output_type": "execute_result"
    }
   ],
   "source": [
    "predict()"
   ]
  },
  {
   "cell_type": "code",
   "execution_count": 10,
   "metadata": {
    "collapsed": true
   },
   "outputs": [],
   "source": [
    "features = ['SHOT_DIST', 'CLOSE_DEF_DIST']"
   ]
  },
  {
   "cell_type": "code",
   "execution_count": 11,
   "metadata": {
    "collapsed": true
   },
   "outputs": [],
   "source": [
    "x_train, x_test, y_train, y_test = train_test_split(df[features], df[target], test_size=0.25, random_state=42)"
   ]
  },
  {
   "cell_type": "code",
   "execution_count": 12,
   "metadata": {
    "collapsed": true
   },
   "outputs": [],
   "source": [
    "y = y_train.values.ravel()"
   ]
  },
  {
   "cell_type": "code",
   "execution_count": 13,
   "metadata": {
    "collapsed": false
   },
   "outputs": [
    {
     "data": {
      "text/plain": [
       "0.53051408582672244"
      ]
     },
     "execution_count": 13,
     "metadata": {},
     "output_type": "execute_result"
    }
   ],
   "source": [
    "predict()"
   ]
  },
  {
   "cell_type": "code",
   "execution_count": 14,
   "metadata": {
    "collapsed": true
   },
   "outputs": [],
   "source": [
    "features = ['SHOT_NUMBER', 'SHOT_DIST', 'CLOSE_DEF_DIST']"
   ]
  },
  {
   "cell_type": "code",
   "execution_count": 15,
   "metadata": {
    "collapsed": true
   },
   "outputs": [],
   "source": [
    "x_train, x_test, y_train, y_test = train_test_split(df[features], df[target], test_size=0.25, random_state=42)"
   ]
  },
  {
   "cell_type": "code",
   "execution_count": 16,
   "metadata": {
    "collapsed": true
   },
   "outputs": [],
   "source": [
    "y = y_train.values.ravel()"
   ]
  },
  {
   "cell_type": "code",
   "execution_count": 17,
   "metadata": {
    "collapsed": false
   },
   "outputs": [
    {
     "data": {
      "text/plain": [
       "0.5307951777125367"
      ]
     },
     "execution_count": 17,
     "metadata": {},
     "output_type": "execute_result"
    }
   ],
   "source": [
    "predict()"
   ]
  },
  {
   "cell_type": "code",
   "execution_count": 18,
   "metadata": {
    "collapsed": true
   },
   "outputs": [],
   "source": [
    "features = ['SHOT_NUMBER', 'SHOT_DIST', 'CLOSE_DEF_DIST', 'PERIOD']"
   ]
  },
  {
   "cell_type": "code",
   "execution_count": 19,
   "metadata": {
    "collapsed": false
   },
   "outputs": [
    {
     "data": {
      "text/plain": [
       "0.53051408582672244"
      ]
     },
     "execution_count": 19,
     "metadata": {},
     "output_type": "execute_result"
    }
   ],
   "source": [
    "x_train, x_test, y_train, y_test = train_test_split(df[features], df[target], test_size=0.25, random_state=42)\n",
    "y = y_train.values.ravel()\n",
    "predict()"
   ]
  },
  {
   "cell_type": "code",
   "execution_count": 26,
   "metadata": {
    "collapsed": false
   },
   "outputs": [
    {
     "name": "stdout",
     "output_type": "stream",
     "text": [
      "SHOT_NUMBER\n",
      "0.546348928728\n",
      "PERIOD\n",
      "0.546348928728\n",
      "SHOT_CLOCK\n",
      "0.553095133987\n",
      "DRIBBLES\n",
      "0.546348928728\n",
      "TOUCH_TIME\n",
      "0.546348928728\n",
      "SHOT_DIST\n",
      "0.528359048035\n",
      "PTS_TYPE\n",
      "0.453651071272\n",
      "CLOSE_DEF_DIST\n",
      "0.539915047786\n"
     ]
    }
   ],
   "source": [
    "features = ['SHOT_NUMBER', 'PERIOD', 'SHOT_CLOCK', 'DRIBBLES', 'TOUCH_TIME', 'SHOT_DIST', 'PTS_TYPE', 'CLOSE_DEF_DIST']\n",
    "df['PTS'] = np.float64(df['PTS'])\n",
    "df['SHOT_NUMBER'] = utils.rescale(df['SHOT_NUMBER'])\n",
    "df['PERIOD'] = utils.rescale(df['PERIOD'])\n",
    "df['SHOT_CLOCK'] = utils.normalize_shotclock(df['SHOT_CLOCK'])\n",
    "df['DRIBBLES'] = utils.rescale(df['DRIBBLES'])\n",
    "df['TOUCH_TIME'] = utils.rescale(df['TOUCH_TIME'])\n",
    "df['SHOT_DIST'] = utils.rescale(df['SHOT_DIST'])\n",
    "df['CLOSE_DEF_DIST'] = utils.rescale(df['CLOSE_DEF_DIST'])\n",
    "\n",
    "for i in features:\n",
    "    x_train, x_test, y_train, y_test = train_test_split(df[[i]], df[target], test_size=0.25, random_state=42)\n",
    "    y = y_train.values.ravel()\n",
    "    model.fit(x_train, y)\n",
    "    print i\n",
    "    print model.score(x_test, y_test)\n"
   ]
  },
  {
   "cell_type": "code",
   "execution_count": 25,
   "metadata": {
    "collapsed": false
   },
   "outputs": [
    {
     "name": "stdout",
     "output_type": "stream",
     "text": [
      "['SHOT_NUMBER']\n",
      "0.546348928728\n",
      "['SHOT_NUMBER', 'PERIOD']\n",
      "0.546348928728\n",
      "['SHOT_NUMBER', 'PERIOD', 'SHOT_CLOCK']\n",
      "0.553751015054\n",
      "['SHOT_NUMBER', 'PERIOD', 'SHOT_CLOCK', 'DRIBBLES']\n",
      "0.555718658255\n",
      "['SHOT_NUMBER', 'PERIOD', 'SHOT_CLOCK', 'DRIBBLES', 'TOUCH_TIME']\n",
      "0.555562496096\n",
      "['SHOT_NUMBER', 'PERIOD', 'SHOT_CLOCK', 'DRIBBLES', 'TOUCH_TIME', 'SHOT_DIST']\n",
      "0.524392529202\n",
      "['SHOT_NUMBER', 'PERIOD', 'SHOT_CLOCK', 'DRIBBLES', 'TOUCH_TIME', 'SHOT_DIST', 'PTS_TYPE']\n",
      "0.457430195515\n",
      "['SHOT_NUMBER', 'PERIOD', 'SHOT_CLOCK', 'DRIBBLES', 'TOUCH_TIME', 'SHOT_DIST', 'PTS_TYPE', 'CLOSE_DEF_DIST']\n",
      "0.457461427947\n",
      "['PERIOD']\n",
      "0.546348928728\n",
      "['PERIOD', 'SHOT_CLOCK']\n",
      "0.553782247486\n",
      "['PERIOD', 'SHOT_CLOCK', 'DRIBBLES']\n",
      "0.555718658255\n",
      "['PERIOD', 'SHOT_CLOCK', 'DRIBBLES', 'TOUCH_TIME']\n",
      "0.556999187957\n",
      "['PERIOD', 'SHOT_CLOCK', 'DRIBBLES', 'TOUCH_TIME', 'SHOT_DIST']\n",
      "0.525048410269\n",
      "['PERIOD', 'SHOT_CLOCK', 'DRIBBLES', 'TOUCH_TIME', 'SHOT_DIST', 'PTS_TYPE']\n",
      "0.457398963083\n",
      "['PERIOD', 'SHOT_CLOCK', 'DRIBBLES', 'TOUCH_TIME', 'SHOT_DIST', 'PTS_TYPE', 'CLOSE_DEF_DIST']\n",
      "0.457492660379\n",
      "['SHOT_CLOCK']\n",
      "0.553095133987\n",
      "['SHOT_CLOCK', 'DRIBBLES']\n",
      "0.553407458305\n",
      "['SHOT_CLOCK', 'DRIBBLES', 'TOUCH_TIME']\n",
      "0.557936160909\n",
      "['SHOT_CLOCK', 'DRIBBLES', 'TOUCH_TIME', 'SHOT_DIST']\n",
      "0.525673058904\n",
      "['SHOT_CLOCK', 'DRIBBLES', 'TOUCH_TIME', 'SHOT_DIST', 'PTS_TYPE']\n",
      "0.457430195515\n",
      "['SHOT_CLOCK', 'DRIBBLES', 'TOUCH_TIME', 'SHOT_DIST', 'PTS_TYPE', 'CLOSE_DEF_DIST']\n",
      "0.457492660379\n",
      "['DRIBBLES']\n",
      "0.546348928728\n",
      "['DRIBBLES', 'TOUCH_TIME']\n",
      "0.546348928728\n",
      "['DRIBBLES', 'TOUCH_TIME', 'SHOT_DIST']\n",
      "0.51902055094\n",
      "['DRIBBLES', 'TOUCH_TIME', 'SHOT_DIST', 'PTS_TYPE']\n",
      "0.45733649822\n",
      "['DRIBBLES', 'TOUCH_TIME', 'SHOT_DIST', 'PTS_TYPE', 'CLOSE_DEF_DIST']\n",
      "0.457398963083\n",
      "['TOUCH_TIME']\n",
      "0.546348928728\n",
      "['TOUCH_TIME', 'SHOT_DIST']\n",
      "0.52364295084\n",
      "['TOUCH_TIME', 'SHOT_DIST', 'PTS_TYPE']\n",
      "0.456774314448\n",
      "['TOUCH_TIME', 'SHOT_DIST', 'PTS_TYPE', 'CLOSE_DEF_DIST']\n",
      "0.456836779312\n",
      "['SHOT_DIST']\n",
      "0.528359048035\n",
      "['SHOT_DIST', 'PTS_TYPE']\n",
      "0.456430757699\n",
      "['SHOT_DIST', 'PTS_TYPE', 'CLOSE_DEF_DIST']\n",
      "0.456493222562\n",
      "['PTS_TYPE']\n",
      "0.453651071272\n",
      "['PTS_TYPE', 'CLOSE_DEF_DIST']\n",
      "0.453651071272\n",
      "['CLOSE_DEF_DIST']\n",
      "0.539915047786\n"
     ]
    }
   ],
   "source": [
    "def sub_lists(my_list):\n",
    "    for i in range(len(my_list)):  \n",
    "        n = i+1  \n",
    "        while n <= len(my_list):  \n",
    "            sub = my_list[i:n]  \n",
    "            x_train, x_test, y_train, y_test = train_test_split(df[sub], df[target], test_size=0.25, random_state=42)\n",
    "            y = y_train.values.ravel()\n",
    "            model.fit(x_train, y)\n",
    "            print sub\n",
    "            print model.score(x_test, y_test)\n",
    "            n += 1  \n",
    "\n",
    "sub_lists(features)\n",
    "  \n"
   ]
  },
  {
   "cell_type": "code",
   "execution_count": null,
   "metadata": {
    "collapsed": true
   },
   "outputs": [],
   "source": []
  }
 ],
 "metadata": {
  "kernelspec": {
   "display_name": "Python 2",
   "language": "python",
   "name": "python2"
  },
  "language_info": {
   "codemirror_mode": {
    "name": "ipython",
    "version": 2
   },
   "file_extension": ".py",
   "mimetype": "text/x-python",
   "name": "python",
   "nbconvert_exporter": "python",
   "pygments_lexer": "ipython2",
   "version": "2.7.11"
  }
 },
 "nbformat": 4,
 "nbformat_minor": 0
}
